{
  "nbformat": 4,
  "nbformat_minor": 0,
  "metadata": {
    "colab": {
      "name": "03 Graph Attention Network",
      "provenance": [],
      "collapsed_sections": [
        "X4ygh2jcLdBj",
        "yjt3eSeWLi_J"
      ]
    },
    "kernelspec": {
      "name": "python3",
      "display_name": "Python 3"
    },
    "language_info": {
      "name": "python"
    },
    "accelerator": "GPU"
  },
  "cells": [
    {
      "cell_type": "markdown",
      "metadata": {
        "id": "X4ygh2jcLdBj"
      },
      "source": [
        "# Installation"
      ]
    },
    {
      "cell_type": "code",
      "metadata": {
        "colab": {
          "base_uri": "https://localhost:8080/"
        },
        "id": "EdjVF28mEMvO",
        "outputId": "868a1849-ccb3-4f37-b7a0-ac44062ac020"
      },
      "source": [
        "! pip install torch-scatter torch-sparse torch-cluster torch-spline-conv torch-geometric -f https://pytorch-geometric.com/whl/torch-1.9.0+cu102.html"
      ],
      "execution_count": 1,
      "outputs": [
        {
          "output_type": "stream",
          "text": [
            "Looking in links: https://pytorch-geometric.com/whl/torch-1.9.0+cu102.html\n",
            "Collecting torch-scatter\n",
            "  Downloading https://pytorch-geometric.com/whl/torch-1.9.0%2Bcu102/torch_scatter-2.0.7-cp37-cp37m-linux_x86_64.whl (2.6 MB)\n",
            "\u001b[K     |████████████████████████████████| 2.6 MB 8.6 MB/s \n",
            "\u001b[?25hCollecting torch-sparse\n",
            "  Downloading https://pytorch-geometric.com/whl/torch-1.9.0%2Bcu102/torch_sparse-0.6.10-cp37-cp37m-linux_x86_64.whl (1.4 MB)\n",
            "\u001b[K     |████████████████████████████████| 1.4 MB 29.0 MB/s \n",
            "\u001b[?25hCollecting torch-cluster\n",
            "  Downloading https://pytorch-geometric.com/whl/torch-1.9.0%2Bcu102/torch_cluster-1.5.9-cp37-cp37m-linux_x86_64.whl (926 kB)\n",
            "\u001b[K     |████████████████████████████████| 926 kB 28.3 MB/s \n",
            "\u001b[?25hCollecting torch-spline-conv\n",
            "  Downloading https://pytorch-geometric.com/whl/torch-1.9.0%2Bcu102/torch_spline_conv-1.2.1-cp37-cp37m-linux_x86_64.whl (382 kB)\n",
            "\u001b[K     |████████████████████████████████| 382 kB 40.9 MB/s \n",
            "\u001b[?25hCollecting torch-geometric\n",
            "  Downloading torch_geometric-1.7.2.tar.gz (222 kB)\n",
            "\u001b[K     |████████████████████████████████| 222 kB 8.0 MB/s \n",
            "\u001b[?25hRequirement already satisfied: scipy in /usr/local/lib/python3.7/dist-packages (from torch-sparse) (1.4.1)\n",
            "Requirement already satisfied: numpy in /usr/local/lib/python3.7/dist-packages (from torch-geometric) (1.19.5)\n",
            "Requirement already satisfied: tqdm in /usr/local/lib/python3.7/dist-packages (from torch-geometric) (4.41.1)\n",
            "Requirement already satisfied: networkx in /usr/local/lib/python3.7/dist-packages (from torch-geometric) (2.5.1)\n",
            "Requirement already satisfied: python-louvain in /usr/local/lib/python3.7/dist-packages (from torch-geometric) (0.15)\n",
            "Requirement already satisfied: scikit-learn in /usr/local/lib/python3.7/dist-packages (from torch-geometric) (0.22.2.post1)\n",
            "Requirement already satisfied: requests in /usr/local/lib/python3.7/dist-packages (from torch-geometric) (2.23.0)\n",
            "Requirement already satisfied: pandas in /usr/local/lib/python3.7/dist-packages (from torch-geometric) (1.1.5)\n",
            "Collecting rdflib\n",
            "  Downloading rdflib-6.0.0-py3-none-any.whl (376 kB)\n",
            "\u001b[K     |████████████████████████████████| 376 kB 13.8 MB/s \n",
            "\u001b[?25hRequirement already satisfied: googledrivedownloader in /usr/local/lib/python3.7/dist-packages (from torch-geometric) (0.4)\n",
            "Requirement already satisfied: jinja2 in /usr/local/lib/python3.7/dist-packages (from torch-geometric) (2.11.3)\n",
            "Requirement already satisfied: pyparsing in /usr/local/lib/python3.7/dist-packages (from torch-geometric) (2.4.7)\n",
            "Requirement already satisfied: MarkupSafe>=0.23 in /usr/local/lib/python3.7/dist-packages (from jinja2->torch-geometric) (2.0.1)\n",
            "Requirement already satisfied: decorator<5,>=4.3 in /usr/local/lib/python3.7/dist-packages (from networkx->torch-geometric) (4.4.2)\n",
            "Requirement already satisfied: python-dateutil>=2.7.3 in /usr/local/lib/python3.7/dist-packages (from pandas->torch-geometric) (2.8.1)\n",
            "Requirement already satisfied: pytz>=2017.2 in /usr/local/lib/python3.7/dist-packages (from pandas->torch-geometric) (2018.9)\n",
            "Requirement already satisfied: six>=1.5 in /usr/local/lib/python3.7/dist-packages (from python-dateutil>=2.7.3->pandas->torch-geometric) (1.15.0)\n",
            "Requirement already satisfied: setuptools in /usr/local/lib/python3.7/dist-packages (from rdflib->torch-geometric) (57.2.0)\n",
            "Collecting isodate\n",
            "  Downloading isodate-0.6.0-py2.py3-none-any.whl (45 kB)\n",
            "\u001b[K     |████████████████████████████████| 45 kB 4.4 MB/s \n",
            "\u001b[?25hRequirement already satisfied: certifi>=2017.4.17 in /usr/local/lib/python3.7/dist-packages (from requests->torch-geometric) (2021.5.30)\n",
            "Requirement already satisfied: chardet<4,>=3.0.2 in /usr/local/lib/python3.7/dist-packages (from requests->torch-geometric) (3.0.4)\n",
            "Requirement already satisfied: urllib3!=1.25.0,!=1.25.1,<1.26,>=1.21.1 in /usr/local/lib/python3.7/dist-packages (from requests->torch-geometric) (1.24.3)\n",
            "Requirement already satisfied: idna<3,>=2.5 in /usr/local/lib/python3.7/dist-packages (from requests->torch-geometric) (2.10)\n",
            "Requirement already satisfied: joblib>=0.11 in /usr/local/lib/python3.7/dist-packages (from scikit-learn->torch-geometric) (1.0.1)\n",
            "Building wheels for collected packages: torch-geometric\n",
            "  Building wheel for torch-geometric (setup.py) ... \u001b[?25l\u001b[?25hdone\n",
            "  Created wheel for torch-geometric: filename=torch_geometric-1.7.2-py3-none-any.whl size=388142 sha256=218c354f0bbc9efc6d6f780229d84a665c6f1c7ad3a0c92a0392a7d076ef2e0b\n",
            "  Stored in directory: /root/.cache/pip/wheels/55/93/b6/2eeb0465afe89aee74d7a07a606e9770466d7565abd45a99d5\n",
            "Successfully built torch-geometric\n",
            "Installing collected packages: isodate, rdflib, torch-spline-conv, torch-sparse, torch-scatter, torch-geometric, torch-cluster\n",
            "Successfully installed isodate-0.6.0 rdflib-6.0.0 torch-cluster-1.5.9 torch-geometric-1.7.2 torch-scatter-2.0.7 torch-sparse-0.6.10 torch-spline-conv-1.2.1\n"
          ],
          "name": "stdout"
        }
      ]
    },
    {
      "cell_type": "markdown",
      "metadata": {
        "id": "yjt3eSeWLi_J"
      },
      "source": [
        "# Libraries"
      ]
    },
    {
      "cell_type": "code",
      "metadata": {
        "id": "ZjzAH05jLWdd"
      },
      "source": [
        "import numpy as np\n",
        "import torch\n",
        "import torch.nn as nn\n",
        "import torch.nn.functional as F\n",
        "\n",
        "\n",
        "from torch_geometric.data import Data\n",
        "from torch_geometric.nn import GATConv\n",
        "from torch_geometric.datasets import Planetoid\n",
        "import torch_geometric.transforms as T\n",
        "\n",
        "from time import time\n",
        "import matplotlib.pyplot as plt"
      ],
      "execution_count": 2,
      "outputs": []
    },
    {
      "cell_type": "markdown",
      "metadata": {
        "id": "tltxQIeuLyUu"
      },
      "source": [
        "# Forward Method"
      ]
    },
    {
      "cell_type": "markdown",
      "metadata": {
        "id": "ZRuOhA0ML8BM"
      },
      "source": [
        "## Linear Transformation\n",
        "\n",
        "$$\\overline{h_i'} = W \\ \\overline{h_i}$$\n",
        "\n",
        "where $W \\in \\mathbb{R}^{F' \\text{x} F}$, $\\overline{h_i} \\in \\mathbb{R}^{F}$ and $\\overline{h_i'} \\in \\mathbb{R}^{F'}$"
      ]
    },
    {
      "cell_type": "code",
      "metadata": {
        "colab": {
          "base_uri": "https://localhost:8080/"
        },
        "id": "0u6n4HerL7au",
        "outputId": "7052e654-c5de-468b-89bb-8ee1ad9b0236"
      },
      "source": [
        "in_features = 5\n",
        "out_features = 2\n",
        "n_nodes = 3\n",
        "\n",
        "W = nn.Parameter(torch.zeros(size=(in_features, out_features)))\n",
        "nn.init.xavier_uniform_(W.data, gain=1.414)\n",
        "\n",
        "input = torch.rand(n_nodes,in_features) \n",
        "\n",
        "# Linear Transformation\n",
        "h = torch.mm(input, W)\n",
        "N = h.size()[0]\n",
        "\n",
        "print(f\"Input Shape: {input.shape}\\nOtput Shape: {h.shape}\")"
      ],
      "execution_count": 3,
      "outputs": [
        {
          "output_type": "stream",
          "text": [
            "Input Shape: torch.Size([3, 5])\n",
            "Otput Shape: torch.Size([3, 2])\n"
          ],
          "name": "stdout"
        }
      ]
    },
    {
      "cell_type": "markdown",
      "metadata": {
        "id": "3ICWIA6kNc8v"
      },
      "source": [
        "## Attention Mechanism\n",
        "\n",
        "<center><img src=\"https://raw.githubusercontent.com/itsayushthada/Geometric-Machine-Learning/main/Graph-Deep-Learning/Images/03/AttentionMechanism.png\" width=600> </img></center>"
      ]
    },
    {
      "cell_type": "code",
      "metadata": {
        "id": "y-N5_YrRPgVh"
      },
      "source": [
        "# Leaky RelU\n",
        "\n",
        "leakyrelu = nn.LeakyReLU(0.2) "
      ],
      "execution_count": 4,
      "outputs": []
    },
    {
      "cell_type": "markdown",
      "metadata": {
        "id": "ThnADp33Py7S"
      },
      "source": [
        "<center><img src= \"https://raw.githubusercontent.com/itsayushthada/Geometric-Machine-Learning/main/Graph-Deep-Learning/Images/03/a_input.png\"> </img></center>"
      ]
    },
    {
      "cell_type": "code",
      "metadata": {
        "colab": {
          "base_uri": "https://localhost:8080/"
        },
        "id": "JBEbbQjLLmre",
        "outputId": "d3c16929-7601-4c33-eaa1-7d6e85f25eb1"
      },
      "source": [
        "# Attention Matrix [Learnable Inner Product][Something like a Reimanninan Metric]\n",
        "A = nn.Parameter(torch.zeros(size=(2*out_features, 1)))\n",
        "nn.init.xavier_uniform_(A.data, gain=1.414)\n",
        "print(f\"Attention Matrix Sahpe: {A.shape}\")\n",
        "\n",
        "# Attention Matrix Inputs\n",
        "A_input = torch.cat([h.repeat(1, N).view(N * N, -1), h.repeat(N, 1)], dim=1).view(N, -1, 2 * out_features)\n",
        "print(f\"Attention Matrix Inputs Shape: {A_input.shape}\")\n",
        "\n",
        "# Unnormalized Attention Weights\n",
        "e = leakyrelu(torch.matmul(A_input, A).squeeze(2))\n",
        "print(f\"Attention Attention Weights Shape: {e.shape}\")"
      ],
      "execution_count": 5,
      "outputs": [
        {
          "output_type": "stream",
          "text": [
            "Attention Matrix Sahpe: torch.Size([4, 1])\n",
            "Attention Matrix Inputs Shape: torch.Size([3, 3, 4])\n",
            "Attention Attention Weights Shape: torch.Size([3, 3])\n"
          ],
          "name": "stdout"
        }
      ]
    },
    {
      "cell_type": "markdown",
      "metadata": {
        "id": "aYoW-KScQjQ9"
      },
      "source": [
        "## Masked Attention"
      ]
    },
    {
      "cell_type": "code",
      "metadata": {
        "colab": {
          "base_uri": "https://localhost:8080/"
        },
        "id": "JY5-SoqyQSv7",
        "outputId": "0d32a0cb-b9b5-4d1c-ae3d-9b746ce26c6c"
      },
      "source": [
        "# Attention Masking Example\n",
        "adj = torch.randint(2, (3, 3))\n",
        "zero_vec  = -9e15*torch.ones_like(e)\n",
        "\n",
        "attention = torch.where(adj > 0, e, zero_vec)\n",
        "\n",
        "print(f\"\"\"Adjacancy Matrix: \\n{adj.numpy()}\\n\n",
        "Unnoralized Attention Matrix: \\n{e.clone().detach().numpy()}\\n\n",
        "Zero Matrix: \\n{zero_vec.clone().detach().numpy()}\\n\n",
        "Attention: {attention.clone().detach().numpy()}\"\"\")"
      ],
      "execution_count": 6,
      "outputs": [
        {
          "output_type": "stream",
          "text": [
            "Adjacancy Matrix: \n",
            "[[1 1 1]\n",
            " [1 0 0]\n",
            " [0 0 1]]\n",
            "\n",
            "Unnoralized Attention Matrix: \n",
            "[[-0.07364155 -0.01797769  0.52093667]\n",
            " [-0.17908764 -0.12342378 -0.00125875]\n",
            " [-0.3450346  -0.28937075 -0.16720572]]\n",
            "\n",
            "Zero Matrix: \n",
            "[[-9.e+15 -9.e+15 -9.e+15]\n",
            " [-9.e+15 -9.e+15 -9.e+15]\n",
            " [-9.e+15 -9.e+15 -9.e+15]]\n",
            "\n",
            "Attention: [[-7.3641554e-02 -1.7977690e-02  5.2093667e-01]\n",
            " [-1.7908764e-01 -8.9999998e+15 -8.9999998e+15]\n",
            " [-8.9999998e+15 -8.9999998e+15 -1.6720572e-01]]\n"
          ],
          "name": "stdout"
        }
      ]
    },
    {
      "cell_type": "code",
      "metadata": {
        "colab": {
          "base_uri": "https://localhost:8080/"
        },
        "id": "Uwy1TbcdRVwd",
        "outputId": "970476ad-aa08-431f-c6a2-21f9eb3af1bb"
      },
      "source": [
        "# Masking Attention to Real Embedding\n",
        "\n",
        "attention = F.softmax(attention, dim=1)\n",
        "h_prime   = torch.matmul(attention, h)\n",
        "\n",
        "print(f\"h Tensor:\\n{h.clone().detach().numpy()}\\n\\nh_prime Tensor:\\n{h_prime.clone().detach().numpy()}\")"
      ],
      "execution_count": 7,
      "outputs": [
        {
          "output_type": "stream",
          "text": [
            "h Tensor:\n",
            "[[ 0.2666671   0.62609035]\n",
            " [-0.00232543  1.2960235 ]\n",
            " [ 1.3979753   0.9863958 ]]\n",
            "\n",
            "h_prime Tensor:\n",
            "[[0.7230149  0.9778795 ]\n",
            " [0.2666671  0.62609035]\n",
            " [1.3979753  0.9863958 ]]\n"
          ],
          "name": "stdout"
        }
      ]
    },
    {
      "cell_type": "markdown",
      "metadata": {
        "id": "SdvCqUpqUFNh"
      },
      "source": [
        "# GAT Layer"
      ]
    },
    {
      "cell_type": "code",
      "metadata": {
        "id": "fYpga-N8Tk2b"
      },
      "source": [
        "class GATLayer(nn.Module):\n",
        "    def __init__(self, in_channels, out_channels, dropout, alpha, concat=True):\n",
        "        super(GATLayer, self).__init__()\n",
        "        self.dropout       = dropout        # drop prob = 0.6\n",
        "        self.in_features   = in_features    # \n",
        "        self.out_features  = out_features   # \n",
        "        self.alpha         = alpha          # LeakyReLU with negative input slope, alpha = 0.2\n",
        "        self.concat        = concat         # conacat = True for all layers except the output layer.\n",
        "\n",
        "        \n",
        "        # Xavier Initialization of Weights\n",
        "        # Alternatively use weights_init to apply weights of choice \n",
        "        self.W = nn.Parameter(torch.zeros(size=(in_features, out_features)))\n",
        "        nn.init.xavier_uniform_(self.W.data, gain=1.414)\n",
        "        \n",
        "        self.A = nn.Parameter(torch.zeros(size=(2*out_features, 1)))\n",
        "        nn.init.xavier_uniform_(self.a.data, gain=1.414)\n",
        "        \n",
        "        # LeakyReLU\n",
        "        self.leakyrelu = nn.LeakyReLU(self.alpha)\n",
        "\n",
        "    def forward(self, input, adj):\n",
        "        # Linear Transformation\n",
        "        h = torch.mm(input, self.W)\n",
        "        N = h.size()[0]\n",
        "\n",
        "        # Attention Mechanism\n",
        "        A_input = torch.cat([h.repeat(1, N).view(N * N, -1), h.repeat(N, 1)], dim=1).view(N, -1, 2 * self.out_features)\n",
        "        e       = self.leakyrelu(torch.matmul(A_input, self.A).squeeze(2))\n",
        "\n",
        "        # Masked Attention\n",
        "        zero_vec  = -9e15*torch.ones_like(e)\n",
        "        attention = torch.where(adj > 0, e, zero_vec)\n",
        "        \n",
        "        attention = F.softmax(attention, dim=1)\n",
        "        attention = F.dropout(attention, self.dropout, training=self.training)\n",
        "        h_prime   = torch.matmul(attention, h)\n",
        "\n",
        "\n",
        "        if self.concat:\n",
        "            return F.elu(h_prime)\n",
        "        else:\n",
        "            return h_prime"
      ],
      "execution_count": 8,
      "outputs": []
    },
    {
      "cell_type": "markdown",
      "metadata": {
        "id": "iC4yxHhKUrOF"
      },
      "source": [
        "# Modelling"
      ]
    },
    {
      "cell_type": "code",
      "metadata": {
        "colab": {
          "base_uri": "https://localhost:8080/"
        },
        "id": "uw37HwIbUiyU",
        "outputId": "a4fdb004-304b-4efe-862e-42348baa1b3d"
      },
      "source": [
        "name_data = 'Cora'\n",
        "dataset = Planetoid(root= './tmp/' + name_data, name = name_data)\n",
        "dataset.transform = T.NormalizeFeatures()\n",
        "\n",
        "data = dataset[0]\n",
        "\n",
        "print(f\"Number of Classes in {name_data}:\", dataset.num_classes)\n",
        "print(f\"Number of Node Features in {name_data}:\", dataset.num_node_features)"
      ],
      "execution_count": 9,
      "outputs": [
        {
          "output_type": "stream",
          "text": [
            "Downloading https://github.com/kimiyoung/planetoid/raw/master/data/ind.cora.x\n",
            "Downloading https://github.com/kimiyoung/planetoid/raw/master/data/ind.cora.tx\n",
            "Downloading https://github.com/kimiyoung/planetoid/raw/master/data/ind.cora.allx\n",
            "Downloading https://github.com/kimiyoung/planetoid/raw/master/data/ind.cora.y\n",
            "Downloading https://github.com/kimiyoung/planetoid/raw/master/data/ind.cora.ty\n",
            "Downloading https://github.com/kimiyoung/planetoid/raw/master/data/ind.cora.ally\n",
            "Downloading https://github.com/kimiyoung/planetoid/raw/master/data/ind.cora.graph\n",
            "Downloading https://github.com/kimiyoung/planetoid/raw/master/data/ind.cora.test.index\n",
            "Processing...\n",
            "Done!\n",
            "Number of Classes in Cora: 7\n",
            "Number of Node Features in Cora: 1433\n"
          ],
          "name": "stdout"
        }
      ]
    },
    {
      "cell_type": "code",
      "metadata": {
        "id": "9m505KCUU5SD"
      },
      "source": [
        "class GATModel(torch.nn.Module):\n",
        "    def __init__(self, **kwargs):\n",
        "        super(GATModel, self).__init__()\n",
        "        self.hidden = 16\n",
        "        self.in_head = 8\n",
        "        self.out_head = 1\n",
        "        self.dropout = 0.2\n",
        "        \n",
        "        self.conv1 = GATConv(in_channels = dataset.num_features, \n",
        "                             out_channels = self.hidden, \n",
        "                             heads = self.in_head, \n",
        "                             concat = True,\n",
        "                             dropout = self.dropout)\n",
        "        \n",
        "        self.conv2 = GATConv(in_channels = self.hidden*self.in_head, \n",
        "                             out_channels = dataset.num_classes, \n",
        "                             concat = False, \n",
        "                             heads = self.out_head, \n",
        "                             dropout = self.dropout)\n",
        "\n",
        "    def forward(self, data):\n",
        "        x, edge_index = data.x, data.edge_index\n",
        "                \n",
        "        x = F.dropout(x, p=0.6, training=self.training)\n",
        "        x = self.conv1(x, edge_index)\n",
        "        x = F.elu(x)\n",
        "        x = F.dropout(x, p=0.6, training=self.training)\n",
        "        x = self.conv2(x, edge_index)\n",
        "        \n",
        "        return F.log_softmax(x, dim=1)"
      ],
      "execution_count": 14,
      "outputs": []
    },
    {
      "cell_type": "code",
      "metadata": {
        "colab": {
          "base_uri": "https://localhost:8080/",
          "height": 34
        },
        "id": "ROuX0bD3VkyD",
        "outputId": "ec5856c5-36ed-4216-bec2-cca7fbc2a112"
      },
      "source": [
        "# Set Device\n",
        "\n",
        "GPU = True\n",
        "\n",
        "device = 'cuda' if torch.cuda.is_available() and GPU else 'cpu'\n",
        "device"
      ],
      "execution_count": 15,
      "outputs": [
        {
          "output_type": "execute_result",
          "data": {
            "application/vnd.google.colaboratory.intrinsic+json": {
              "type": "string"
            },
            "text/plain": [
              "'cuda'"
            ]
          },
          "metadata": {
            "tags": []
          },
          "execution_count": 15
        }
      ]
    },
    {
      "cell_type": "code",
      "metadata": {
        "id": "W9BNq70SVXMf"
      },
      "source": [
        "# Instantiate Model\n",
        "model = GATModel()\n",
        "\n",
        "# Put Model and Data on Device\n",
        "model.to(device)\n",
        "data.to(device)\n",
        "\n",
        "# Instantiate Optimizer\n",
        "adam = torch.optim.Adam(model.parameters(), lr=0.01, weight_decay=5e-4)"
      ],
      "execution_count": 16,
      "outputs": []
    },
    {
      "cell_type": "code",
      "metadata": {
        "colab": {
          "base_uri": "https://localhost:8080/"
        },
        "id": "wA15U8mzV6zS",
        "outputId": "627d2612-00df-4e1b-afd2-277447d722ce"
      },
      "source": [
        "# Define Train and Evalaution Subroutine\n",
        "\n",
        "EPOCHS = 1000\n",
        "PATIENCE = 20\n",
        "history = {\"train-loss\": [np.inf], \"val-loss\": [np.inf], \"train-accuracy\": [0], \"val-accuracy\": [0]}\n",
        "\n",
        "min_loss = np.inf\n",
        "es_counter = 0\n",
        "\n",
        "for epoch in range(EPOCHS):\n",
        "    tick = time()\n",
        "\n",
        "    # Custom Train Loop\n",
        "    model.train()\n",
        "    adam.zero_grad()\n",
        "    logits = model.forward(data)\n",
        "    train_loss =  F.nll_loss(logits[data.train_mask], data.y[data.train_mask])\n",
        "    train_loss.backward()\n",
        "    adam.step()\n",
        "    history[\"train-loss\"].append(train_loss.item())\n",
        "\n",
        "    # Custom Evaluation Loop\n",
        "    model.eval()\n",
        "    logits = model.forward(data)\n",
        "    val_loss =  F.nll_loss(logits[data.val_mask], data.y[data.val_mask])\n",
        "    history[\"val-loss\"].append(val_loss.item())\n",
        "    for mask_name in ['train', 'val']:\n",
        "        _, mask = next(data(f\"{mask_name}_mask\"))\n",
        "        pred = logits[mask].max(dim=1)[1]\n",
        "        acc = pred.eq(data.y[mask]).sum().item() / mask.sum().item()\n",
        "        history[f\"{mask_name}-accuracy\"].append(acc)\n",
        "\n",
        "    tock = time()\n",
        "\n",
        "    # Early Stopping\n",
        "    if min_loss < val_loss:\n",
        "        es_counter += 1\n",
        "    else:\n",
        "        es_counter = 0\n",
        "    \n",
        "    if es_counter >= PATIENCE:\n",
        "        print(\"Validation Loss Increasing. Early Stopping !!!\")\n",
        "        break\n",
        "    \n",
        "    # Print Results\n",
        "    if (epoch)%50 == 0:\n",
        "        print(f\"\"\"Epcohs: {epoch:03}/{EPOCHS}\n",
        "    - Train Loss:{history[\"train-loss\"][-1]: 0.6f} \\t Train Accuracy: {history[\"train-accuracy\"][-1]: 0.6f}\n",
        "    - Valid Loss:{history[\"val-loss\"][-1]: 0.6f} \\t Valid Accuracy: {history[\"val-accuracy\"][-1]: 0.6f}\n",
        "    - Turnaround Time: {tock-tick: 0.6f} sec\n",
        "        \"\"\")\n",
        "\n",
        "    # Update Minimum Loss\n",
        "    min_loss = min(*history[\"val-loss\"])"
      ],
      "execution_count": 17,
      "outputs": [
        {
          "output_type": "stream",
          "text": [
            "Epcohs: 000/1000\n",
            "    - Train Loss: 1.948031 \t Train Accuracy:  0.707143\n",
            "    - Valid Loss: 1.927901 \t Valid Accuracy:  0.530000\n",
            "    - Turnaround Time:  1.153891 sec\n",
            "        \n",
            "Epcohs: 050/1000\n",
            "    - Train Loss: 0.435455 \t Train Accuracy:  0.985714\n",
            "    - Valid Loss: 0.797207 \t Valid Accuracy:  0.800000\n",
            "    - Turnaround Time:  0.007167 sec\n",
            "        \n",
            "Epcohs: 100/1000\n",
            "    - Train Loss: 0.303380 \t Train Accuracy:  1.000000\n",
            "    - Valid Loss: 0.677627 \t Valid Accuracy:  0.804000\n",
            "    - Turnaround Time:  0.006959 sec\n",
            "        \n",
            "Validation Loss Increasing. Early Stopping !!!\n"
          ],
          "name": "stdout"
        }
      ]
    },
    {
      "cell_type": "code",
      "metadata": {
        "colab": {
          "base_uri": "https://localhost:8080/",
          "height": 382
        },
        "id": "yPMaonWIWUoI",
        "outputId": "b3d05e90-ba1f-40ac-d4f6-8039fa42772f"
      },
      "source": [
        "plt.figure(figsize=(20, 6))\n",
        "\n",
        "plt.subplot(1, 2, 1)\n",
        "plt.plot(history[\"train-loss\"], label=\"train\")\n",
        "plt.plot(history[\"val-loss\"], label=\"Validation\")\n",
        "plt.xlabel(\"Epochs\")\n",
        "plt.ylabel(\"NLL Loss\")\n",
        "plt.title(\"Loss Curves\")\n",
        "plt.legend()\n",
        "\n",
        "plt.subplot(1, 2, 2)\n",
        "plt.plot(history[\"train-accuracy\"], label=\"train\")\n",
        "plt.plot(history[\"val-accuracy\"], label=\"Validation\")\n",
        "plt.xlabel(\"Epochs\")\n",
        "plt.ylabel(\"Accuracy\")\n",
        "plt.title(\"Accuracy Curves\")\n",
        "plt.legend()\n",
        "\n",
        "plt.show()"
      ],
      "execution_count": 18,
      "outputs": [
        {
          "output_type": "display_data",
          "data": {
            "image/png": "[encoded data removed]",
            "text/plain": [
              "<Figure size 1440x432 with 2 Axes>"
            ]
          },
          "metadata": {
            "tags": [],
            "needs_background": "light"
          }
        }
      ]
    },
    {
      "cell_type": "code",
      "metadata": {
        "id": "q5_wHEZsaOrd"
      },
      "source": [
        ""
      ],
      "execution_count": null,
      "outputs": []
    }
  ]
}